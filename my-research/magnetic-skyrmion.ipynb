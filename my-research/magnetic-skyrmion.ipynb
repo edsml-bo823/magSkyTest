{
 "cells": [
  {
   "cell_type": "markdown",
   "id": "c0adc5fc-5844-480a-a4ef-9a2d29d4ec27",
   "metadata": {},
   "source": [
    "# My research project: Skyrmion Impossible 🤓🧑‍🎓\n",
    "\n",
    "We begin by importing the simulation package we just developed:"
   ]
  },
  {
   "cell_type": "code",
   "execution_count": 6,
   "id": "e2f99f92-8d35-4cfb-b5d9-d53998d36787",
   "metadata": {},
   "outputs": [],
   "source": [
    "import mcsim"
   ]
  },
  {
   "cell_type": "markdown",
   "id": "3e2d4d5b-d259-46b2-adde-7e8b1aa6d448",
   "metadata": {},
   "source": [
    "Now, we create a `system` object to uniquely describe the magnetic system we want to simulate:"
   ]
  },
  {
   "cell_type": "code",
   "execution_count": 2,
   "id": "c4c3c966-1526-425f-944a-649c39be0fd9",
   "metadata": {},
   "outputs": [],
   "source": [
    "# We will simulate a 12x12 spin lattice.\n",
    "s = mcsim.Spins(n=(12, 12))\n",
    "\n",
    "# An initial state which is more likely to result in a skyrmion than a random state.\n",
    "for i in range(s.array.shape[0]):\n",
    "    for j in range(s.array.shape[1]):\n",
    "        if 4<= i < 8 and 4 <= j < 8:\n",
    "            s.array[i, j, :] = (0, 0, -1)\n",
    "        else:\n",
    "            s.array[i, j, :] = (0, 0, 1)\n",
    "\n",
    "# Here, we create a system object we will give to our driver.\n",
    "system = mcsim.System(s=s, B=(0, 0, 0.20), K=0.02, u=(0, 0, 1), J=0.7, D=0.5)"
   ]
  },
  {
   "cell_type": "markdown",
   "id": "4ff49694-c173-41c3-8ed9-b116dc29827d",
   "metadata": {},
   "source": [
    "We're ready. Let's simulate!"
   ]
  },
  {
   "cell_type": "code",
   "execution_count": 3,
   "id": "6e319770-14ea-48cf-bc03-f8b1bc6342f9",
   "metadata": {},
   "outputs": [],
   "source": [
    "driver = mcsim.Driver()\n",
    "driver.drive(system, n=20_000)"
   ]
  },
  {
   "cell_type": "markdown",
   "id": "e61499f6-c2f8-4854-8211-ea961f77ff97",
   "metadata": {},
   "source": [
    "The simulation is over. Let's see what we got. The mean magnetisation is:"
   ]
  },
  {
   "cell_type": "code",
   "execution_count": null,
   "id": "4e195f4b-3b05-4cf0-befc-2afade11f242",
   "metadata": {},
   "outputs": [],
   "source": [
    "system.s.mean"
   ]
  },
  {
   "cell_type": "markdown",
   "id": "b4fbbb0d-cb28-43ec-beb7-318898953306",
   "metadata": {},
   "source": [
    "... and the visualisation of the state we have is:"
   ]
  },
  {
   "cell_type": "code",
   "execution_count": null,
   "id": "531b3c9f-e980-442e-9e07-7c9f79a4d8ab",
   "metadata": {},
   "outputs": [],
   "source": [
    "system.s.plot()"
   ]
  }
 ],
 "metadata": {
  "kernelspec": {
   "display_name": "Python 3 (ipykernel)",
   "language": "python",
   "name": "python3"
  },
  "language_info": {
   "codemirror_mode": {
    "name": "ipython",
    "version": 3
   },
   "file_extension": ".py",
   "mimetype": "text/x-python",
   "name": "python",
   "nbconvert_exporter": "python",
   "pygments_lexer": "ipython3",
   "version": "3.12.7"
  }
 },
 "nbformat": 4,
 "nbformat_minor": 5
}
